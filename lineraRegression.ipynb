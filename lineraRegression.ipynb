{
  "nbformat": 4,
  "nbformat_minor": 0,
  "metadata": {
    "colab": {
      "provenance": [],
      "mount_file_id": "1ZRZIIxHjAXVAnsyALUxWzzexn5NGWSTV",
      "authorship_tag": "ABX9TyN0aPGGNZ6HMq/lm2psmsWs",
      "include_colab_link": true
    },
    "kernelspec": {
      "name": "python3",
      "display_name": "Python 3"
    },
    "language_info": {
      "name": "python"
    }
  },
  "cells": [
    {
      "cell_type": "markdown",
      "metadata": {
        "id": "view-in-github",
        "colab_type": "text"
      },
      "source": [
        "<a href=\"https://colab.research.google.com/github/AnujKrishnaPhuyal/LinearRegression/blob/main/lineraRegression.ipynb\" target=\"_parent\"><img src=\"https://colab.research.google.com/assets/colab-badge.svg\" alt=\"Open In Colab\"/></a>"
      ]
    },
    {
      "cell_type": "code",
      "execution_count": 131,
      "metadata": {
        "id": "LqUfCwnMwhjz"
      },
      "outputs": [],
      "source": [
        "import torch\n",
        "from torch import nn\n",
        "import matplotlib.pyplot as plt\n",
        "import numpy as np\n",
        "from torch import nn\n",
        "from google.colab  import drive"
      ]
    },
    {
      "cell_type": "code",
      "source": [
        "torch.__version__\n",
        "\n"
      ],
      "metadata": {
        "colab": {
          "base_uri": "https://localhost:8080/",
          "height": 36
        },
        "id": "TjPXMOwWxFqh",
        "outputId": "2678f501-609e-4c38-d0f7-847f9efe8bdc"
      },
      "execution_count": 6,
      "outputs": [
        {
          "output_type": "execute_result",
          "data": {
            "text/plain": [
              "'2.0.0+cu118'"
            ],
            "application/vnd.google.colaboratory.intrinsic+json": {
              "type": "string"
            }
          },
          "metadata": {},
          "execution_count": 6
        }
      ]
    },
    {
      "cell_type": "code",
      "source": [
        "weight = 0.3\n",
        "bias = 0.2\n",
        "X = torch.arange(1,9,0.1)\n",
        "y = weight+bias*X\n",
        "len(y)"
      ],
      "metadata": {
        "colab": {
          "base_uri": "https://localhost:8080/"
        },
        "id": "-XtQVZBox8kZ",
        "outputId": "2ba0d7d9-dd47-4db8-cc3e-f5eaf7f3ec37"
      },
      "execution_count": 110,
      "outputs": [
        {
          "output_type": "execute_result",
          "data": {
            "text/plain": [
              "80"
            ]
          },
          "metadata": {},
          "execution_count": 110
        }
      ]
    },
    {
      "cell_type": "code",
      "source": [
        "train_split = int(0.75*len(X))\n",
        "train_split\n"
      ],
      "metadata": {
        "colab": {
          "base_uri": "https://localhost:8080/"
        },
        "id": "khjjSK1FyMyr",
        "outputId": "c08f3292-3e70-4e3c-f216-b9aa8caf8845"
      },
      "execution_count": 111,
      "outputs": [
        {
          "output_type": "execute_result",
          "data": {
            "text/plain": [
              "60"
            ]
          },
          "metadata": {},
          "execution_count": 111
        }
      ]
    },
    {
      "cell_type": "code",
      "source": [
        "X_train,y_train = X[:train_split],y[:train_split]\n",
        "len(X_train)\n",
        "X_train.shape"
      ],
      "metadata": {
        "colab": {
          "base_uri": "https://localhost:8080/"
        },
        "id": "GIep3Cr9zcaN",
        "outputId": "4192ce81-30b5-4e0d-edaa-9f91dced0fab"
      },
      "execution_count": 112,
      "outputs": [
        {
          "output_type": "execute_result",
          "data": {
            "text/plain": [
              "torch.Size([60])"
            ]
          },
          "metadata": {},
          "execution_count": 112
        }
      ]
    },
    {
      "cell_type": "code",
      "source": [
        "y_train.shape\n"
      ],
      "metadata": {
        "colab": {
          "base_uri": "https://localhost:8080/"
        },
        "id": "JDJZPICo5wNf",
        "outputId": "994c2942-6c75-4efb-eb95-2035186f8c48"
      },
      "execution_count": 10,
      "outputs": [
        {
          "output_type": "execute_result",
          "data": {
            "text/plain": [
              "torch.Size([33])"
            ]
          },
          "metadata": {},
          "execution_count": 10
        }
      ]
    },
    {
      "cell_type": "code",
      "source": [
        "X_test,y_test = X[train_split:],y[train_split:]\n",
        "len(X_test)"
      ],
      "metadata": {
        "colab": {
          "base_uri": "https://localhost:8080/"
        },
        "id": "Zyq-fMS20ulq",
        "outputId": "bbdef142-eb94-4688-cb95-ed8baf3e3918"
      },
      "execution_count": 100,
      "outputs": [
        {
          "output_type": "execute_result",
          "data": {
            "text/plain": [
              "11"
            ]
          },
          "metadata": {},
          "execution_count": 100
        }
      ]
    },
    {
      "cell_type": "code",
      "source": [
        "def pred_plot(train_data = X_train,\n",
        "              train_labels = y_train,\n",
        "              test_data=X_test,\n",
        "              test_labels = y_test,\n",
        "              prediction = None):\n",
        "  # plt.subplot(1,2,1)\n",
        "  plt.scatter(train_data,train_labels,c=\"r\",label=\"training data\")\n",
        "  # plt.subplot(1,2,2)\n",
        "  plt.scatter(test_data,test_labels,c=\"g\", label=\"test data\")\n",
        "\n",
        "  if prediction is not None:\n",
        "    plt.scatter(test_data,prediction,label=\"prediction\")\n",
        "  plt.legend()\n",
        "  plt.show()"
      ],
      "metadata": {
        "id": "SL8jY6E606p2"
      },
      "execution_count": 65,
      "outputs": []
    },
    {
      "cell_type": "code",
      "source": [
        "X_test.dtype"
      ],
      "metadata": {
        "colab": {
          "base_uri": "https://localhost:8080/"
        },
        "id": "EhLEl1A1RTFj",
        "outputId": "8248b4d6-34bd-4dfa-da46-dfc004b2ef98"
      },
      "execution_count": 57,
      "outputs": [
        {
          "output_type": "execute_result",
          "data": {
            "text/plain": [
              "torch.float32"
            ]
          },
          "metadata": {},
          "execution_count": 57
        }
      ]
    },
    {
      "cell_type": "code",
      "source": [
        "pred_plot()"
      ],
      "metadata": {
        "colab": {
          "base_uri": "https://localhost:8080/",
          "height": 430
        },
        "id": "YicGKGvZ16AL",
        "outputId": "3c8bd4b0-97bc-4b87-cab3-edf13b8dbbfc"
      },
      "execution_count": 13,
      "outputs": [
        {
          "output_type": "display_data",
          "data": {
            "text/plain": [
              "<Figure size 640x480 with 1 Axes>"
            ],
            "image/png": "[encoded data removed]"
          },
          "metadata": {}
        }
      ]
    },
    {
      "cell_type": "code",
      "source": [
        "class LinearRegressionModel(nn.Module):\n",
        "  def __init__(self):\n",
        "    super().__init__()\n",
        "    self.weights = nn.Parameter(torch.randn(1,\n",
        "                                            requires_grad=True,\n",
        "                                            dtype=torch.float))\n",
        "    self.bais = nn.Parameter(torch.randn(1,requires_grad=True,\n",
        "                                            dtype=torch.float))\n",
        "\n",
        "  def forward(self,x:torch.Tensor):\n",
        "      return self.bais+self.weights*x\n",
        "\n"
      ],
      "metadata": {
        "id": "X5bMHUSf1_5_"
      },
      "execution_count": 47,
      "outputs": []
    },
    {
      "cell_type": "code",
      "source": [
        "model_1=LinearRegressionModel()"
      ],
      "metadata": {
        "id": "erfGWm1rMQQA"
      },
      "execution_count": 48,
      "outputs": []
    },
    {
      "cell_type": "code",
      "source": [
        "model_1.state_dict()"
      ],
      "metadata": {
        "colab": {
          "base_uri": "https://localhost:8080/"
        },
        "id": "i5plteQ9NhdA",
        "outputId": "4bb8748e-8b02-474f-939a-c7f11ace8ab2"
      },
      "execution_count": 49,
      "outputs": [
        {
          "output_type": "execute_result",
          "data": {
            "text/plain": [
              "OrderedDict([('weights', tensor([0.2563])), ('bais', tensor([0.9550]))])"
            ]
          },
          "metadata": {},
          "execution_count": 49
        }
      ]
    },
    {
      "cell_type": "code",
      "source": [
        "y_pred = model_1(X_test)"
      ],
      "metadata": {
        "id": "RRowHyVUQEJD"
      },
      "execution_count": 50,
      "outputs": []
    },
    {
      "cell_type": "code",
      "source": [
        "y_pred\n"
      ],
      "metadata": {
        "colab": {
          "base_uri": "https://localhost:8080/"
        },
        "id": "oqYQ62sQQhVj",
        "outputId": "c7da2074-d6cc-4fcb-f046-ba6b86de975d"
      },
      "execution_count": 59,
      "outputs": [
        {
          "output_type": "execute_result",
          "data": {
            "text/plain": [
              "tensor([3.7485, 3.8254, 3.9022, 3.9791, 4.0560, 4.1329, 4.2098, 4.2867, 4.3636,\n",
              "        4.4404, 4.5173], grad_fn=<AddBackward0>)"
            ]
          },
          "metadata": {},
          "execution_count": 59
        }
      ]
    },
    {
      "cell_type": "code",
      "source": [
        "with torch.inference_mode():\n",
        "  y_test_pred = model_1(X_test)\n",
        "y_test_pred"
      ],
      "metadata": {
        "colab": {
          "base_uri": "https://localhost:8080/"
        },
        "id": "_HcEzuDEQjPk",
        "outputId": "790c6e35-56c4-47b2-f546-eed58ecbc5be"
      },
      "execution_count": 63,
      "outputs": [
        {
          "output_type": "execute_result",
          "data": {
            "text/plain": [
              "tensor([3.7485, 3.8254, 3.9022, 3.9791, 4.0560, 4.1329, 4.2098, 4.2867, 4.3636,\n",
              "        4.4404, 4.5173])"
            ]
          },
          "metadata": {},
          "execution_count": 63
        }
      ]
    },
    {
      "cell_type": "code",
      "source": [
        "pred_plot(X_test,y_test,prediction=y_test_pred)"
      ],
      "metadata": {
        "colab": {
          "base_uri": "https://localhost:8080/",
          "height": 430
        },
        "id": "2X7jua38Rnnz",
        "outputId": "13f1f705-126c-4d20-aaa2-74b349dd1b8a"
      },
      "execution_count": 67,
      "outputs": [
        {
          "output_type": "display_data",
          "data": {
            "text/plain": [
              "<Figure size 640x480 with 1 Axes>"
            ],
            "image/png": "[encoded data removed]"
          },
          "metadata": {}
        }
      ]
    },
    {
      "cell_type": "code",
      "source": [
        "loss_fn = nn.L1Loss()"
      ],
      "metadata": {
        "id": "GD-tVr7XZuQf"
      },
      "execution_count": 101,
      "outputs": []
    },
    {
      "cell_type": "code",
      "source": [
        "optimizer = torch.optim.SGD(params = model_1.parameters(),\n",
        "                            lr=0.01)"
      ],
      "metadata": {
        "id": "9cMgtk58qsRO"
      },
      "execution_count": 102,
      "outputs": []
    },
    {
      "cell_type": "code",
      "source": [
        "epochs = 100\n",
        "train_loss = []\n",
        "test_loss_values=[]\n",
        "epoch_count =[]\n",
        "\n",
        "for epoch in range(epochs):\n",
        "  model_1.train()\n",
        "  y_pred = model_1(X_train)\n",
        "  loss = loss_fn(y_pred,y_train)\n",
        "  optimizer.zero_grad()\n",
        "  loss.backward()\n",
        "  optimizer.step()\n",
        "\n",
        "  model_1.eval()\n",
        "  with torch.inference_mode():\n",
        "    test_pred = model_1(X_test)\n",
        "    test_loss = loss_fn(test_pred,y_test)\n",
        "\n",
        "\n",
        "  if epoch % 10==0:\n",
        "      epoch_count.append(epoch)\n",
        "      train_loss.append(loss.detach().numpy())\n",
        "      test_loss_values.append(test_loss.detach().numpy())\n",
        "      print(f\"epoch:{epoch},pred_loss:{loss},test_loss={test_loss}\")\n"
      ],
      "metadata": {
        "colab": {
          "base_uri": "https://localhost:8080/"
        },
        "id": "PGhfKFG6rPqj",
        "outputId": "50074714-b820-41af-ccc6-26a6cedc176a"
      },
      "execution_count": 113,
      "outputs": [
        {
          "output_type": "stream",
          "name": "stdout",
          "text": [
            "epoch:0,pred_loss:0.028151284903287888,test_loss=0.5322566032409668\n",
            "epoch:10,pred_loss:0.028151284903287888,test_loss=0.5322566032409668\n",
            "epoch:20,pred_loss:0.028151284903287888,test_loss=0.5322566032409668\n",
            "epoch:30,pred_loss:0.028151284903287888,test_loss=0.5322566032409668\n",
            "epoch:40,pred_loss:0.028151284903287888,test_loss=0.5322566032409668\n",
            "epoch:50,pred_loss:0.028151284903287888,test_loss=0.5322566032409668\n",
            "epoch:60,pred_loss:0.028151284903287888,test_loss=0.5322566032409668\n",
            "epoch:70,pred_loss:0.028151284903287888,test_loss=0.5322566032409668\n",
            "epoch:80,pred_loss:0.028151284903287888,test_loss=0.5322566032409668\n",
            "epoch:90,pred_loss:0.028151284903287888,test_loss=0.5322566032409668\n"
          ]
        }
      ]
    },
    {
      "cell_type": "code",
      "source": [
        "plt.plot(epoch_count,train_loss,label=\"train_losses\")\n",
        "plt.plot(epoch_count,test_loss_values,label=\"test_losses\")\n",
        "plt.legend()\n",
        "plt.show()\n",
        "pred_plot()\n"
      ],
      "metadata": {
        "colab": {
          "base_uri": "https://localhost:8080/",
          "height": 843
        },
        "id": "VBPMVI5myMkq",
        "outputId": "8ef2d129-cba7-4eb3-c3c0-8d9cd12459f5"
      },
      "execution_count": 117,
      "outputs": [
        {
          "output_type": "display_data",
          "data": {
            "text/plain": [
              "<Figure size 640x480 with 1 Axes>"
            ],
            "image/png": "[encoded data removed]"
          },
          "metadata": {}
        },
        {
          "output_type": "display_data",
          "data": {
            "text/plain": [
              "<Figure size 640x480 with 1 Axes>"
            ],
            "image/png": "[encoded data removed]"
          },
          "metadata": {}
        }
      ]
    },
    {
      "cell_type": "code",
      "source": [
        "model_1.state_dict()"
      ],
      "metadata": {
        "colab": {
          "base_uri": "https://localhost:8080/"
        },
        "id": "V-04I-ez0qPS",
        "outputId": "9a7347ab-4a70-46d6-8f06-32e2f09ef31e"
      },
      "execution_count": 118,
      "outputs": [
        {
          "output_type": "execute_result",
          "data": {
            "text/plain": [
              "OrderedDict([('weights', tensor([0.1928])), ('bais', tensor([0.3565]))])"
            ]
          },
          "metadata": {},
          "execution_count": 118
        }
      ]
    },
    {
      "cell_type": "code",
      "source": [
        "model_1.eval()\n",
        "with torch.inference_mode():\n",
        "  final_pred = model_1(X_test)\n",
        "final_pred"
      ],
      "metadata": {
        "colab": {
          "base_uri": "https://localhost:8080/"
        },
        "id": "gOTFl2ob3Xt5",
        "outputId": "c3701bd8-60c8-43d8-84d1-491cc6c2501e"
      },
      "execution_count": 121,
      "outputs": [
        {
          "output_type": "execute_result",
          "data": {
            "text/plain": [
              "tensor([2.4583, 2.5162, 2.5740, 2.6318, 2.6897, 2.7475, 2.8054, 2.8632, 2.9211,\n",
              "        2.9789, 3.0368])"
            ]
          },
          "metadata": {},
          "execution_count": 121
        }
      ]
    },
    {
      "cell_type": "code",
      "source": [
        "pred_plot(X_test,y_test,prediction=final_pred)"
      ],
      "metadata": {
        "colab": {
          "base_uri": "https://localhost:8080/",
          "height": 430
        },
        "id": "jGamFvoJ512-",
        "outputId": "cb64ee66-1e0f-4b74-b806-78032e4765e9"
      },
      "execution_count": 126,
      "outputs": [
        {
          "output_type": "display_data",
          "data": {
            "text/plain": [
              "<Figure size 640x480 with 1 Axes>"
            ],
            "image/png": "[encoded data removed]"
          },
          "metadata": {}
        }
      ]
    },
    {
      "cell_type": "code",
      "source": [
        "drive.mount('/content/gdrive')\n",
        "file_path = '/content/gdrive/My Drive/ml_projects/my_model.pth'\n",
        "torch.save(model_1,file_path)"
      ],
      "metadata": {
        "colab": {
          "base_uri": "https://localhost:8080/"
        },
        "id": "dmrkYyVX6FcM",
        "outputId": "b0f5dc59-78ed-4717-a98f-0b4fa7965d31"
      },
      "execution_count": 133,
      "outputs": [
        {
          "output_type": "stream",
          "name": "stdout",
          "text": [
            "Mounted at /content/gdrive\n"
          ]
        }
      ]
    },
    {
      "cell_type": "code",
      "source": [],
      "metadata": {
        "id": "zPFNLNDI6oHi"
      },
      "execution_count": null,
      "outputs": []
    }
  ]
}